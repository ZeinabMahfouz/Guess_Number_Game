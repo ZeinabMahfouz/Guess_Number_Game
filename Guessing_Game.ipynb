{
 "cells": [
  {
   "cell_type": "code",
   "execution_count": null,
   "id": "a1255ac3-9ae2-42d1-b51b-19938bf76f9c",
   "metadata": {},
   "outputs": [
    {
     "name": "stdout",
     "output_type": "stream",
     "text": [
      "\n",
      "  (1) Easy:\n",
      "          Limits : [1 - 10]\n",
      "          No. of trials : 3\n",
      "  (2) Intermediate:\n",
      "          Limits : [1 - 100]\n",
      "          No. of trials : 7\n",
      "  (3) Hard :\n",
      "          Limits : [1 - 1000]\n",
      "          No. of trials 15\n"
     ]
    }
   ],
   "source": [
    "import random\n",
    "def show_levels():\n",
    "  print('''\n",
    "  (1) Easy:\n",
    "          Limits : [1 - 10]\n",
    "          No. of trials : 3\n",
    "  (2) Intermediate:\n",
    "          Limits : [1 - 100]\n",
    "          No. of trials : 7\n",
    "  (3) Hard :\n",
    "          Limits : [1 - 1000]\n",
    "          No. of trials 15''')\n",
    "def game_level_choice():\n",
    "  trials=0\n",
    "  while True :\n",
    "    game_level=input('please selsct the game level 1 ,2,3   ')\n",
    "    if game_level in ['1','2','3']:\n",
    "      game_level=int(game_level)\n",
    "      return game_level\n",
    "    else:\n",
    "      print ('Incorrect choice')\n",
    "      trials+=1\n",
    "      if trials==3:\n",
    "        print('you exceed the number of trials')\n",
    "        break\n",
    "def set_game_settings(game_level):\n",
    "  if game_level==1:\n",
    "    limits=range(1,11)\n",
    "    n_trials=3\n",
    "  elif game_level==2:\n",
    "    limits=range(1,101)\n",
    "    n_trials=7\n",
    "  else:\n",
    "    limits=range(1,1001)\n",
    "    n_trials=15\n",
    "  return limits, n_trials\n",
    "\n",
    "def start_play(limits, n_trials):\n",
    "  user_trials=0\n",
    "  gussing=random.choice(limits)\n",
    "  while user_trials <= n_trials :\n",
    "    guess=int(input('I guess a number can you guess it : '))\n",
    "    user_trials+=1\n",
    "    if guess==gussing:\n",
    "      print('You get it in the trial no  '+str(user_trials))\n",
    "      break\n",
    "    else:\n",
    "      if user_trials == n_trials:\n",
    "        print(f\"Unfortunately, You tried {user_trials} trials. No more Trials!\")\n",
    "        print(f'The  number I guess is  {gussing}')\n",
    "      elif guess < gussing:\n",
    "        print('No, Increase!')\n",
    "      else:\n",
    "        print('No, Decrease!')\n",
    "def play():\n",
    "  show_levels()\n",
    "  game_level = game_level_choice()\n",
    "  limits, n_trials = set_game_settings(game_level)\n",
    "  start_play(limits, n_trials)\n",
    "play()"
   ]
  },
  {
   "cell_type": "code",
   "execution_count": null,
   "id": "5af335c7-167f-467c-8e19-55e6cd67c28e",
   "metadata": {},
   "outputs": [],
   "source": []
  }
 ],
 "metadata": {
  "kernelspec": {
   "display_name": "Python 3 (ipykernel)",
   "language": "python",
   "name": "python3"
  },
  "language_info": {
   "codemirror_mode": {
    "name": "ipython",
    "version": 3
   },
   "file_extension": ".py",
   "mimetype": "text/x-python",
   "name": "python",
   "nbconvert_exporter": "python",
   "pygments_lexer": "ipython3",
   "version": "3.11.5"
  }
 },
 "nbformat": 4,
 "nbformat_minor": 5
}
